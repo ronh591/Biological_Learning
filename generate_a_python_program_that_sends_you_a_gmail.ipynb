{
  "cells": [
    {
      "cell_type": "markdown",
      "metadata": {
        "id": "view-in-github",
        "colab_type": "text"
      },
      "source": [
        "<a href=\"https://colab.research.google.com/github/ronh591/Biological_Learning/blob/master/generate_a_python_program_that_sends_you_a_gmail.ipynb\" target=\"_parent\"><img src=\"https://colab.research.google.com/assets/colab-badge.svg\" alt=\"Open In Colab\"/></a>"
      ]
    },
    {
      "cell_type": "markdown",
      "source": [
        "Sure, here is a Python program that sends you a Gmail message:"
      ],
      "metadata": {
        "id": "J2sJ4qPMFDQy"
      }
    },
    {
      "cell_type": "code",
      "source": [
        "import smtplib\n",
        "from email.mime.text import MIMEText\n",
        "\n",
        "# Set up your email server\n",
        "GMAIL_USERNAME = \"jgoodwell2376@gmail.com\"\n",
        "GMAIL_PASSWORD = \"samrotuna71\"\n",
        "SMTP_SERVER = \"smtp.gmail.com\"\n",
        "SMTP_PORT = 587\n",
        "\n",
        "# Create a message\n",
        "message = MIMEText(\"This is a test message.\")\n",
        "message[\"From\"] = jgoodwell2376@gmail.com\n",
        "message[\"To\"] = \"jgoodwell2376@gmail.com\"\n",
        "message[\"Subject\"] = \"Test Message, Санджив Арора \"\n",
        "\n",
        "# Send the message\n",
        "with smtplib.SMTP(SMTP_SERVER, SMTP_PORT) as smtp:\n",
        "  smtp.ehlo()\n",
        "  smtp.starttls()\n",
        "  smtp.login(jgoodwell2376@gmail.com , samrotuna71)\n",
        "  smtp.sendmail(GMAIL_USERNAME, message[\"To\"], message.as_string())\n",
        "  smtp.quit()"
      ],
      "outputs": [
        {
          "output_type": "error",
          "ename": "NameError",
          "evalue": "ignored",
          "traceback": [
            "\u001b[0;31m---------------------------------------------------------------------------\u001b[0m",
            "\u001b[0;31mNameError\u001b[0m                                 Traceback (most recent call last)",
            "\u001b[0;32m<ipython-input-5-822444640200>\u001b[0m in \u001b[0;36m<cell line: 12>\u001b[0;34m()\u001b[0m\n\u001b[1;32m     10\u001b[0m \u001b[0;31m# Create a message\u001b[0m\u001b[0;34m\u001b[0m\u001b[0;34m\u001b[0m\u001b[0m\n\u001b[1;32m     11\u001b[0m \u001b[0mmessage\u001b[0m \u001b[0;34m=\u001b[0m \u001b[0mMIMEText\u001b[0m\u001b[0;34m(\u001b[0m\u001b[0;34m\"This is a test message.\"\u001b[0m\u001b[0;34m)\u001b[0m\u001b[0;34m\u001b[0m\u001b[0;34m\u001b[0m\u001b[0m\n\u001b[0;32m---> 12\u001b[0;31m \u001b[0mmessage\u001b[0m\u001b[0;34m[\u001b[0m\u001b[0;34m\"From\"\u001b[0m\u001b[0;34m]\u001b[0m \u001b[0;34m=\u001b[0m \u001b[0mjgoodwell2376\u001b[0m\u001b[0;34m@\u001b[0m\u001b[0mgmail\u001b[0m\u001b[0;34m.\u001b[0m\u001b[0mcom\u001b[0m\u001b[0;34m\u001b[0m\u001b[0;34m\u001b[0m\u001b[0m\n\u001b[0m\u001b[1;32m     13\u001b[0m \u001b[0mmessage\u001b[0m\u001b[0;34m[\u001b[0m\u001b[0;34m\"To\"\u001b[0m\u001b[0;34m]\u001b[0m \u001b[0;34m=\u001b[0m \u001b[0;34m\"jgoodwell2376@gmail.com\"\u001b[0m\u001b[0;34m\u001b[0m\u001b[0;34m\u001b[0m\u001b[0m\n\u001b[1;32m     14\u001b[0m \u001b[0mmessage\u001b[0m\u001b[0;34m[\u001b[0m\u001b[0;34m\"Subject\"\u001b[0m\u001b[0;34m]\u001b[0m \u001b[0;34m=\u001b[0m \u001b[0;34m\"Test Message, Санджив Арора \"\u001b[0m\u001b[0;34m\u001b[0m\u001b[0;34m\u001b[0m\u001b[0m\n",
            "\u001b[0;31mNameError\u001b[0m: name 'jgoodwell2376' is not defined"
          ]
        }
      ],
      "execution_count": 5,
      "metadata": {
        "colab": {
          "base_uri": "https://localhost:8080/",
          "height": 235
        },
        "id": "0hTSxc2uFDQ2",
        "outputId": "e150c1e3-6735-4962-947e-0bf2b5ba229c"
      }
    },
    {
      "cell_type": "markdown",
      "source": [
        "This program will send you a simple text message with the subject \"Test Message\". You can modify the message to include whatever you want."
      ],
      "metadata": {
        "id": "2sLWHLBpFDQ4"
      }
    }
  ],
  "metadata": {
    "colab": {
      "provenance": [],
      "include_colab_link": true
    },
    "kernelspec": {
      "display_name": "Python 3",
      "name": "python3"
    }
  },
  "nbformat": 4,
  "nbformat_minor": 0
}